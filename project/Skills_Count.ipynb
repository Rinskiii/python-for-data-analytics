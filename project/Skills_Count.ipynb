{
 "cells": [
  {
   "cell_type": "markdown",
   "metadata": {},
   "source": [
    "# What are the most demanded skills for the top 3 most popular data roles?\n",
    "\n",
    "## Methodology\n",
    "1. Clean-up skill column;\n",
    "2. Calculate skill count based on job_title_short\n",
    "3. Pivot initial findings\n",
    "4. Calculate skill percentage\n",
    "5. Plot final findings\n",
    "\n",
    "## Original Exploration\n",
    "#### Matplotlib Format Charts"
   ]
  },
  {
   "cell_type": "markdown",
   "metadata": {},
   "source": [
    "### Import Libraries and Data"
   ]
  },
  {
   "cell_type": "code",
   "execution_count": null,
   "metadata": {},
   "outputs": [],
   "source": [
    "import ast\n",
    "import pandas as pd\n",
    "import seaborn as sns\n",
    "import matplotlib.pyplot as plt"
   ]
  },
  {
   "cell_type": "code",
   "execution_count": null,
   "metadata": {},
   "outputs": [],
   "source": []
  }
 ],
 "metadata": {
  "language_info": {
   "name": "python"
  }
 },
 "nbformat": 4,
 "nbformat_minor": 2
}

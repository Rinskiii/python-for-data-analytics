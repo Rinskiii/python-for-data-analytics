{
 "cells": [
  {
   "cell_type": "markdown",
   "metadata": {},
   "source": [
    "# ADVANCED"
   ]
  },
  {
   "cell_type": "code",
   "execution_count": null,
   "metadata": {},
   "outputs": [],
   "source": [
    "import pandas as pd\n",
    "import matplotlib.pyplot as plt\n",
    "import numpy as np"
   ]
  },
  {
   "cell_type": "code",
   "execution_count": null,
   "metadata": {},
   "outputs": [],
   "source": [
    "# Loadin data\n",
    "df = pd.read_csv('./data/data_jobs.csv')"
   ]
  },
  {
   "cell_type": "code",
   "execution_count": null,
   "metadata": {},
   "outputs": [],
   "source": [
    "df['job_posted_date'] = pd.to_datetime(df['job_posted_date'])"
   ]
  },
  {
   "cell_type": "code",
   "execution_count": null,
   "metadata": {},
   "outputs": [],
   "source": [
    "type(df['job_posted_date'])"
   ]
  },
  {
   "cell_type": "code",
   "execution_count": null,
   "metadata": {},
   "outputs": [],
   "source": [
    "df.head()"
   ]
  },
  {
   "cell_type": "code",
   "execution_count": null,
   "metadata": {},
   "outputs": [],
   "source": [
    "df.loc[:, 'salary_rate':'salary_hour_avg'].dropna(subset='salary_rate')"
   ]
  },
  {
   "cell_type": "markdown",
   "metadata": {},
   "source": [
    "## Data Cleaning"
   ]
  },
  {
   "cell_type": "code",
   "execution_count": null,
   "metadata": {},
   "outputs": [],
   "source": [
    "median_salary_year = df.salary_year_avg.median()"
   ]
  },
  {
   "cell_type": "code",
   "execution_count": null,
   "metadata": {},
   "outputs": [],
   "source": [
    "median_salary_hour = df.salary_hour_avg.median()"
   ]
  },
  {
   "cell_type": "code",
   "execution_count": null,
   "metadata": {},
   "outputs": [],
   "source": [
    "df_filled = df\n",
    "df_filled['salary_year_avg'] = df_filled['salary_year_avg'].fillna(value=median_salary_year)\n",
    "df_filled['salary_hour_avg'] = df_filled['salary_hour_avg'].fillna(value=median_salary_hour)"
   ]
  },
  {
   "cell_type": "code",
   "execution_count": null,
   "metadata": {},
   "outputs": [],
   "source": [
    "df_filled.loc[:10, 'salary_year_avg' : 'salary_hour_avg']"
   ]
  },
  {
   "cell_type": "code",
   "execution_count": null,
   "metadata": {},
   "outputs": [],
   "source": [
    "df_uinque = df_filled\n",
    "df_uinque = df_uinque.drop_duplicates()\n",
    "print('Length of original df:           ', len(df_filled))\n",
    "print('Length of drop duplicates df:    ', len(df_uinque))\n",
    "print('Rows Dropped:                    ', len(df_filled) - len(df_uinque))"
   ]
  },
  {
   "cell_type": "code",
   "execution_count": null,
   "metadata": {},
   "outputs": [],
   "source": [
    "df_uinque = df_uinque.drop_duplicates(subset=['job_title', 'company_name'])\n",
    "print('Length of original df:           ', len(df_filled))\n",
    "print('Length of drop duplicates df:    ', len(df_uinque))\n",
    "print('Rows Dropped:                    ', len(df_filled) - len(df_uinque))"
   ]
  },
  {
   "cell_type": "markdown",
   "metadata": {},
   "source": [
    "## Data Management\n",
    "### df.sample(), df.copy()"
   ]
  },
  {
   "cell_type": "code",
   "execution_count": null,
   "metadata": {},
   "outputs": [],
   "source": [
    "# метод возвращает подмножество случайных элементов из этого ряда\n",
    "# при параметре random_state - случайные элементы всегда будут одни и теже\n",
    "df.sample(10, random_state=42)"
   ]
  },
  {
   "cell_type": "code",
   "execution_count": null,
   "metadata": {},
   "outputs": [],
   "source": [
    "df_original = pd.read_csv('./data/data_jobs.csv')"
   ]
  },
  {
   "cell_type": "markdown",
   "metadata": {},
   "source": [
    "### При первом выражении ниже, создастся датафрейм с таким же id как и у  оригинального, поэтому необходимо использовать метод COPY\n",
    "- df_altered = df_original  \n",
    "- print(id(df_original))\n",
    "- print(id(df_altered))\n",
    "    - 128677527495280\n",
    "    - 128677527495280\n",
    "\n",
    "- id(df_original) == id(df_altered)\n",
    "    - True"
   ]
  },
  {
   "cell_type": "markdown",
   "metadata": {},
   "source": [
    "### Использование метода COPY"
   ]
  },
  {
   "cell_type": "code",
   "execution_count": null,
   "metadata": {},
   "outputs": [],
   "source": [
    "df_altered = df_original.copy()"
   ]
  },
  {
   "cell_type": "code",
   "execution_count": null,
   "metadata": {},
   "outputs": [],
   "source": [
    "print('ID of df_original:                   ', id(df_original))\n",
    "print('ID of df_altered:                    ', id(df_altered))\n",
    "print('Are the two dataframes the same?     ', id(df_original) == id(df_altered))"
   ]
  },
  {
   "cell_type": "markdown",
   "metadata": {},
   "source": [
    "### Pivot Tables\n",
    "- df.pivot_table()"
   ]
  },
  {
   "cell_type": "code",
   "execution_count": null,
   "metadata": {},
   "outputs": [],
   "source": [
    "df_pivot = pd.read_csv('./data/data_jobs.csv')"
   ]
  },
  {
   "cell_type": "code",
   "execution_count": null,
   "metadata": {},
   "outputs": [],
   "source": [
    "df_pivot.pivot_table(index='job_title_short', aggfunc='size')"
   ]
  },
  {
   "cell_type": "code",
   "execution_count": null,
   "metadata": {},
   "outputs": [],
   "source": [
    "df_pivot.groupby('job_title_short').size()"
   ]
  },
  {
   "cell_type": "code",
   "execution_count": null,
   "metadata": {},
   "outputs": [],
   "source": [
    "df_pivot.pivot_table(values='salary_year_avg', index='job_title_short', aggfunc='median')"
   ]
  },
  {
   "cell_type": "code",
   "execution_count": null,
   "metadata": {},
   "outputs": [],
   "source": [
    "df_pivot.groupby('job_title_short')['salary_year_avg'].median()"
   ]
  },
  {
   "cell_type": "code",
   "execution_count": null,
   "metadata": {},
   "outputs": [],
   "source": [
    "df_pivot.pivot_table(values='salary_year_avg', index='job_country', columns='job_title_short', aggfunc='median')"
   ]
  },
  {
   "cell_type": "code",
   "execution_count": null,
   "metadata": {},
   "outputs": [],
   "source": [
    "# Получаем массив (лист)\n",
    "top_countries = df_pivot['job_country'].value_counts().head(6).index\n",
    "top_countries"
   ]
  },
  {
   "cell_type": "code",
   "execution_count": null,
   "metadata": {},
   "outputs": [],
   "source": [
    "df_job_country_salary = df_pivot.pivot_table(values='salary_year_avg',\n",
    "                     index='job_country',\n",
    "                     columns='job_title_short',\n",
    "                     aggfunc='median')\n",
    "\n",
    "df_job_country_salary = df_job_country_salary.loc[top_countries]\n",
    "\n",
    "job_title = ['Data Analyst', 'Data Engineer', 'Data Scientist']\n",
    "\n",
    "# Можно и такой вариант\n",
    "# df_job_country_salary.loc[top_countries, job_title]\n",
    "\n",
    "df_job_country_salary = df_job_country_salary[job_title]\n",
    "df_job_country_salary"
   ]
  },
  {
   "cell_type": "code",
   "execution_count": null,
   "metadata": {},
   "outputs": [],
   "source": [
    "df_job_country_salary.plot(kind='bar')\n",
    "plt.ylabel('Median salary ($USD)')\n",
    "plt.xlabel('')\n",
    "plt.title('Median salary by Country and Job Title')\n",
    "plt.xticks(rotation=45, ha='right')\n",
    "plt.show()"
   ]
  },
  {
   "cell_type": "markdown",
   "metadata": {},
   "source": [
    "## Index Management\n",
    "- df.sort_index()"
   ]
  },
  {
   "cell_type": "code",
   "execution_count": null,
   "metadata": {},
   "outputs": [],
   "source": [
    "import pandas as pd\n",
    "import matplotlib.pyplot as plt\n",
    "import numpy as np"
   ]
  },
  {
   "cell_type": "code",
   "execution_count": null,
   "metadata": {},
   "outputs": [],
   "source": [
    "# Loadin data\n",
    "df_index = pd.read_csv('./data/data_jobs.csv')"
   ]
  },
  {
   "cell_type": "code",
   "execution_count": null,
   "metadata": {},
   "outputs": [],
   "source": [
    "df.index"
   ]
  },
  {
   "cell_type": "code",
   "execution_count": null,
   "metadata": {},
   "outputs": [],
   "source": [
    "df.index.name = 'job_index'"
   ]
  },
  {
   "cell_type": "code",
   "execution_count": null,
   "metadata": {},
   "outputs": [],
   "source": [
    "df.head()"
   ]
  },
  {
   "cell_type": "code",
   "execution_count": null,
   "metadata": {},
   "outputs": [],
   "source": [
    "df.index.dtype"
   ]
  },
  {
   "cell_type": "markdown",
   "metadata": {},
   "source": [
    "## Three Methods to cover\n",
    "- df.reset_index()\n",
    "- df.set_index()\n",
    "- df.sort_index()"
   ]
  },
  {
   "cell_type": "markdown",
   "metadata": {},
   "source": [
    "### reset_index()"
   ]
  },
  {
   "cell_type": "code",
   "execution_count": null,
   "metadata": {},
   "outputs": [],
   "source": [
    "df_usa = df[df['job_country'] == 'United States']"
   ]
  },
  {
   "cell_type": "code",
   "execution_count": null,
   "metadata": {},
   "outputs": [],
   "source": [
    "df_usa.head(4)"
   ]
  },
  {
   "cell_type": "code",
   "execution_count": null,
   "metadata": {},
   "outputs": [],
   "source": [
    "df_usa.reset_index(inplace=True)\n",
    "df_usa.head(5)"
   ]
  },
  {
   "cell_type": "markdown",
   "metadata": {},
   "source": [
    "### set_index()"
   ]
  },
  {
   "cell_type": "code",
   "execution_count": null,
   "metadata": {},
   "outputs": [],
   "source": [
    "df_usa.set_index('job_index', inplace=True)\n",
    "df_usa.head(5)"
   ]
  },
  {
   "cell_type": "markdown",
   "metadata": {},
   "source": [
    "### sort_index()"
   ]
  },
  {
   "cell_type": "code",
   "execution_count": null,
   "metadata": {},
   "outputs": [],
   "source": [
    "median_pivot = df_usa.pivot_table(values='salary_year_avg',\n",
    "                                  index='job_title_short',\n",
    "                                  aggfunc=['median', 'min', 'max'])"
   ]
  },
  {
   "cell_type": "code",
   "execution_count": null,
   "metadata": {},
   "outputs": [],
   "source": [
    "median_pivot.sort_values(by=('median', 'salary_year_avg'), ascending=False)"
   ]
  },
  {
   "cell_type": "markdown",
   "metadata": {},
   "source": [
    "## Analyzing Data Science Job Demand"
   ]
  },
  {
   "cell_type": "code",
   "execution_count": null,
   "metadata": {},
   "outputs": [],
   "source": [
    "import pandas as pd\n",
    "import numpy as np\n",
    "import matplotlib.pyplot as plt"
   ]
  },
  {
   "cell_type": "code",
   "execution_count": null,
   "metadata": {},
   "outputs": [],
   "source": [
    "# Loadin data\n",
    "df = pd.read_csv('./data/data_jobs.csv')"
   ]
  },
  {
   "cell_type": "code",
   "execution_count": null,
   "metadata": {},
   "outputs": [],
   "source": [
    "df.head(2)"
   ]
  },
  {
   "cell_type": "code",
   "execution_count": null,
   "metadata": {},
   "outputs": [],
   "source": [
    "df_US = df[df['job_country'] == 'United States']\n",
    "df_US.head(2)"
   ]
  },
  {
   "cell_type": "code",
   "execution_count": null,
   "metadata": {},
   "outputs": [],
   "source": [
    "df_US['job_posted_date'] = pd.to_datetime(df_US['job_posted_date'])"
   ]
  },
  {
   "cell_type": "code",
   "execution_count": null,
   "metadata": {},
   "outputs": [],
   "source": [
    "df_US['job_posted_month'] = df_US['job_posted_date'].dt.strftime('%B')"
   ]
  },
  {
   "cell_type": "code",
   "execution_count": null,
   "metadata": {},
   "outputs": [],
   "source": [
    "df_US_pivot = df_US.pivot_table(index='job_posted_month', columns='job_title_short', aggfunc='size')\n",
    "df_US_pivot.iloc[0:3, 0:4]"
   ]
  },
  {
   "cell_type": "code",
   "execution_count": null,
   "metadata": {},
   "outputs": [],
   "source": [
    "df_US_pivot.reset_index(inplace=True)\n",
    "df_US_pivot"
   ]
  },
  {
   "cell_type": "code",
   "execution_count": null,
   "metadata": {},
   "outputs": [],
   "source": [
    "df_US_pivot['month_no'] = pd.to_datetime(df_US_pivot['job_posted_month'], format='%B').dt.month\n",
    "df_US_pivot"
   ]
  },
  {
   "cell_type": "code",
   "execution_count": null,
   "metadata": {},
   "outputs": [],
   "source": [
    "df_US_pivot.sort_values('month_no', inplace=True)\n",
    "df_US_pivot"
   ]
  },
  {
   "cell_type": "code",
   "execution_count": null,
   "metadata": {},
   "outputs": [],
   "source": [
    "df_US_pivot.set_index('job_posted_month', inplace=True)\n",
    "df_US_pivot"
   ]
  },
  {
   "cell_type": "code",
   "execution_count": null,
   "metadata": {},
   "outputs": [],
   "source": [
    "df_US_pivot.drop(columns='month_no', inplace=True)\n",
    "df_US_pivot"
   ]
  },
  {
   "cell_type": "code",
   "execution_count": null,
   "metadata": {},
   "outputs": [],
   "source": [
    "df_US_pivot.to_csv(path_or_buf='./data/job_posted_da.csv')"
   ]
  },
  {
   "cell_type": "code",
   "execution_count": null,
   "metadata": {},
   "outputs": [],
   "source": [
    "df_US_pivot.plot(kind='line')"
   ]
  },
  {
   "cell_type": "code",
   "execution_count": null,
   "metadata": {},
   "outputs": [],
   "source": [
    "top_3 = df_US['job_title_short'].value_counts().head(3)\n",
    "# top_3 = top_3 результат = index. Index(['Data Analyst', 'Data Scientist', 'Data Engineer'], dtype='object', name='job_title_short')\n",
    "# ['Data Analyst', 'Data Scientist', 'Data Engineer']\n",
    "top_3 = top_3.index.tolist()"
   ]
  },
  {
   "cell_type": "code",
   "execution_count": null,
   "metadata": {},
   "outputs": [],
   "source": [
    "df_US_pivot[top_3].plot(kind='line')\n",
    "plt.title('Monthly Job Postings for Top Data Jobs in the US')\n",
    "plt.xlabel('2023')\n",
    "plt.ylabel('job Count')\n",
    "plt.legend()\n",
    "plt.show()"
   ]
  },
  {
   "cell_type": "markdown",
   "metadata": {},
   "source": [
    "## Merge DataFrames\n",
    "- pd.megre(df1, df2, on='index')"
   ]
  },
  {
   "cell_type": "code",
   "execution_count": null,
   "metadata": {},
   "outputs": [],
   "source": [
    "df_jobs = pd.DataFrame({'job_id' : [1, 2, 3, 4, 5],\n",
    "                        'job_title': ['Data Scientist', 'Software Engineer', 'Product Manager', 'Marketing Director', 'HR Manager'],\n",
    "                        'company_name': ['Google', 'Microsoft', 'Apple', 'Nike', 'SpaceX'],\n",
    "                        'job_location': ['Mountain View, CA', 'Redmond, WA', 'Cupertino, CA', 'Beaverton, OR', 'Brownsville, TX']})"
   ]
  },
  {
   "cell_type": "code",
   "execution_count": null,
   "metadata": {},
   "outputs": [],
   "source": [
    "df_jobs"
   ]
  },
  {
   "cell_type": "code",
   "execution_count": null,
   "metadata": {},
   "outputs": [],
   "source": [
    "df_companies = pd.DataFrame({'company_name': ['Google', 'Microsoft', 'Apple', 'Nike', 'SpaceX'],\n",
    "                             'industry' : ['Technology', 'Technology', 'Technology', 'Apparel', 'Technology'],\n",
    "                             'company_size': ['100,000+', '100,000+', '100,000+', '75,000+', '13,000+']})"
   ]
  },
  {
   "cell_type": "code",
   "execution_count": null,
   "metadata": {},
   "outputs": [],
   "source": [
    "df_companies"
   ]
  },
  {
   "cell_type": "code",
   "execution_count": null,
   "metadata": {},
   "outputs": [],
   "source": [
    "df_jobs.merge(right=df_companies, on='company_name')"
   ]
  },
  {
   "cell_type": "code",
   "execution_count": null,
   "metadata": {},
   "outputs": [],
   "source": [
    "'''Создать DataFrame для 4 профессий и 12 месяцев'''\n",
    "import pandas as pd\n",
    "import numpy as np\n",
    "\n",
    "# Define months and job titles\n",
    "months = [\n",
    "    \"January\", \"February\", \"March\", \"April\", \"May\", \"June\",\n",
    "    \"July\", \"August\", \"September\", \"October\", \"November\", \"December\"\n",
    "]\n",
    "job_titles = [\"Front-End Developer\", \"Back-End Developer\", \"Full-Stack Developer\", \"UI/UX Designer\"]\n",
    "\n",
    "# Generate random job posting values between 50 and 500 for each role per month\n",
    "data = {job_title: np.random.randint(1000, 20500, size=len(months)) for job_title in job_titles}\n",
    "\n",
    "# Create DataFrame and assign job titles to index\n",
    "df = pd.DataFrame(data, index=months)\n",
    "df.index.name = 'job_posted_month'\n",
    "\n",
    "# Save to CSV\n",
    "df.to_csv('./data/job_posted_dev.csv')\n",
    "\n",
    "print(\"CSV file 'job_postings.csv' created successfully.\")\n"
   ]
  },
  {
   "cell_type": "code",
   "execution_count": null,
   "metadata": {},
   "outputs": [],
   "source": [
    "jobs_da = pd.read_csv('./data/job_posted_ds.csv', index_col='job_posted_month')\n",
    "jobs_da"
   ]
  },
  {
   "cell_type": "code",
   "execution_count": null,
   "metadata": {},
   "outputs": [],
   "source": [
    "jobs_dev = pd.read_csv('./data/software_jobs_luke.csv', index_col='job_posted_month')\n",
    "jobs_dev"
   ]
  },
  {
   "cell_type": "code",
   "execution_count": null,
   "metadata": {},
   "outputs": [],
   "source": [
    "df_US_merged = jobs_da.merge(right=jobs_dev, on='job_posted_month')"
   ]
  },
  {
   "cell_type": "code",
   "execution_count": null,
   "metadata": {},
   "outputs": [],
   "source": [
    "df_US_merged"
   ]
  },
  {
   "cell_type": "code",
   "execution_count": null,
   "metadata": {},
   "outputs": [],
   "source": [
    "# Add the \"job_title_short\" row label as in the first table\n",
    "# Convert columns to a MultiIndex, with \"job_title_short\" as the top level\n",
    "# df_US_merged.columns = pd.MultiIndex.from_product([['job_title_short'], df_US_merged.columns])"
   ]
  },
  {
   "cell_type": "code",
   "execution_count": null,
   "metadata": {},
   "outputs": [],
   "source": [
    "# Помещая в скобки можно переносить методы и функции на следующую строку.\n",
    "top_5 = (df_US_merged\n",
    "         .sum()\n",
    "         .sort_values(ascending=False)\n",
    "         .head()\n",
    "         .index # Get the index of the top 5\n",
    "         .to_list()\n",
    "         )\n",
    "top_5"
   ]
  },
  {
   "cell_type": "code",
   "execution_count": null,
   "metadata": {},
   "outputs": [],
   "source": [
    "import matplotlib.pyplot as plt"
   ]
  },
  {
   "cell_type": "code",
   "execution_count": null,
   "metadata": {},
   "outputs": [],
   "source": [
    "df_US_merged[top_5].plot(kind='line')\n",
    "plt.title('Monthly Job Postings for Top Tech Jobs in the US')\n",
    "plt.xlabel('2023')\n",
    "plt.ylabel('Job Count')\n",
    "plt.ylim(0, 20000)\n",
    "plt.legend()\n",
    "plt.show()"
   ]
  },
  {
   "cell_type": "code",
   "execution_count": null,
   "metadata": {},
   "outputs": [],
   "source": []
  },
  {
   "cell_type": "markdown",
   "metadata": {},
   "source": [
    "## Merge DataFrames\n",
    "- pd.concat([df1, df2])"
   ]
  },
  {
   "cell_type": "code",
   "execution_count": null,
   "metadata": {},
   "outputs": [],
   "source": [
    "job_postings_jan = pd.DataFrame({'job_id' : [1, 2, 3, 4, 5],\n",
    "                        'job_title': ['Data Scientist', 'Data Analyst', 'Machine Learning Engineer', 'Data Scientist', 'Data Engineer'],\n",
    "                        'company_name': ['Company A', 'Company B', 'Company C', 'Company D', 'Company E'],\n",
    "                        'job_posted_date': ['2024-01-02', '2024-01-07', '2024-01-14', '2024-01-19', '2024-01-24']})"
   ]
  },
  {
   "cell_type": "code",
   "execution_count": null,
   "metadata": {},
   "outputs": [],
   "source": [
    "job_postings_jan"
   ]
  },
  {
   "cell_type": "code",
   "execution_count": null,
   "metadata": {},
   "outputs": [],
   "source": [
    "job_postings_feb = pd.DataFrame({'job_id' : [1, 2, 3, 4, 5],\n",
    "                        'job_title': ['Data Scientist', 'Data Analyst', 'Machine Learning Engineer', 'Data Scientist', 'Data Engineer'],\n",
    "                        'company_name': ['Company F', 'Company G', 'Company H', 'Company I', 'Company J'],\n",
    "                        'job_posted_date': ['2024-02-05', '2024-02-09', '2024-02-12', '2024-02-18', '2024-02-22']})"
   ]
  },
  {
   "cell_type": "code",
   "execution_count": null,
   "metadata": {},
   "outputs": [],
   "source": [
    "job_postings_feb"
   ]
  },
  {
   "cell_type": "code",
   "execution_count": null,
   "metadata": {},
   "outputs": [],
   "source": [
    "# For example if we merge instead of concat \n",
    "job_postings_jan.merge(right=job_postings_feb, on='job_title', suffixes=('_jan', '_feb'))"
   ]
  },
  {
   "cell_type": "code",
   "execution_count": null,
   "metadata": {},
   "outputs": [],
   "source": [
    "pd.concat([job_postings_jan, job_postings_feb], ignore_index=True)"
   ]
  },
  {
   "cell_type": "code",
   "execution_count": null,
   "metadata": {},
   "outputs": [],
   "source": [
    "df = pd.read_csv('./data/data_jobs.csv')"
   ]
  },
  {
   "cell_type": "code",
   "execution_count": null,
   "metadata": {},
   "outputs": [],
   "source": [
    "df['job_posted_date'] = pd.to_datetime(df['job_posted_date'])"
   ]
  },
  {
   "cell_type": "code",
   "execution_count": null,
   "metadata": {},
   "outputs": [],
   "source": [
    "df.head(3)"
   ]
  },
  {
   "cell_type": "code",
   "execution_count": null,
   "metadata": {},
   "outputs": [],
   "source": [
    "df['job_posted_month'] = df['job_posted_date'].dt.strftime('%b')"
   ]
  },
  {
   "cell_type": "code",
   "execution_count": null,
   "metadata": {},
   "outputs": [],
   "source": [
    "df.head(3)"
   ]
  },
  {
   "cell_type": "code",
   "execution_count": null,
   "metadata": {},
   "outputs": [],
   "source": [
    "# dict_month = {\n",
    "#     'Jan' : df_jan,\n",
    "#     'Dec' : df_feb,\n",
    "#     'Mar' : df_mar,\n",
    "#     'Jan' : df_apr,\n",
    "#     'Apr' : df_may,\n",
    "#     'May' : df_jun,\n",
    "#     'Jun' : df_jul,\n",
    "#     'Jul' : df_sep,\n",
    "#     'Aug' : df_aug,\n",
    "#     'Sep' : df_sep,\n",
    "#     'Oct' : df_oct,\n",
    "#     'Nov' : df_nov,\n",
    "#     'Dec' : df_dec,\n",
    "# }\n",
    "\n",
    "months = df['job_posted_month'].unique()\n",
    "months"
   ]
  },
  {
   "cell_type": "code",
   "execution_count": null,
   "metadata": {},
   "outputs": [],
   "source": [
    "dict_months = {month: df[df['job_posted_month'] == month] for month in months}"
   ]
  },
  {
   "cell_type": "code",
   "execution_count": null,
   "metadata": {},
   "outputs": [],
   "source": [
    "dict_months['Jan']"
   ]
  },
  {
   "cell_type": "markdown",
   "metadata": {},
   "source": [
    "## Needs 2023 Quarter 1"
   ]
  },
  {
   "cell_type": "code",
   "execution_count": null,
   "metadata": {},
   "outputs": [],
   "source": [
    "df_q1 = pd.concat([dict_months['Jan'], dict_months['Feb'], dict_months['Mar']], ignore_index=True)"
   ]
  },
  {
   "cell_type": "code",
   "execution_count": null,
   "metadata": {},
   "outputs": [],
   "source": [
    "df_q1['job_posted_month'].value_counts().plot(kind='bar')"
   ]
  },
  {
   "cell_type": "code",
   "execution_count": null,
   "metadata": {},
   "outputs": [],
   "source": [
    "df_q1"
   ]
  },
  {
   "cell_type": "markdown",
   "metadata": {},
   "source": [
    "## Pandas: Exporting DataFrames\n",
    "- df.to_excel(), df.to_csv()"
   ]
  },
  {
   "cell_type": "code",
   "execution_count": null,
   "metadata": {},
   "outputs": [],
   "source": [
    "df_q1.head().to_clipboard(sep=',')"
   ]
  },
  {
   "cell_type": "markdown",
   "metadata": {},
   "source": [
    ",job_title_short,job_title,job_location,job_via,job_schedule_type,job_work_from_home,search_location,job_posted_date,job_no_degree_mention,job_health_insurance,job_country,salary_rate,salary_year_avg,salary_hour_avg,company_name,job_skills,job_type_skills,job_posted_month\n",
    "0,Data Analyst,Data Analyst,\"Guadalajara, Jalisco, Mexico\",via BeBee México,Full-time,False,Mexico,2023-01-14 13:18:07,False,False,Mexico,,,,Hewlett Packard Enterprise,\"['r', 'python', 'sql', 'nosql', 'power bi', 'tableau']\",\"{'analyst_tools': ['power bi', 'tableau'], 'programming': ['r', 'python', 'sql', 'nosql']}\",Jan\n",
    "1,Data Scientist,Data Scientist,\"Zaventem, Belgium\",via BeBee Belgique,Full-time,False,Belgium,2023-01-31 13:53:38,False,False,Belgium,,,,Devoteam,\"['r', 'python', 'sql', 'pandas', 'numpy', 'scikit-learn', 'matplotlib', 'hadoop', 'spark']\",\"{'libraries': ['pandas', 'numpy', 'scikit-learn', 'matplotlib', 'hadoop', 'spark'], 'programming': ['r', 'python', 'sql']}\",Jan\n",
    "2,Data Engineer,Data Engineer,\"Fort Worth, TX\",via LinkedIn,Full-time,False,\"Texas, United States\",2023-01-25 13:24:01,False,False,United States,,,,Programmers.io,\"['sql', 'python']\",\"{'programming': ['sql', 'python']}\",Jan\n",
    "3,Data Engineer,Data Engineer,\"San Mateo, CA\",via LinkedIn,Full-time,False,\"California, United States\",2023-01-28 13:07:30,False,True,United States,,,,Verkada,\"['sql', 'python', 'aws', 'looker']\",\"{'analyst_tools': ['looker'], 'cloud': ['aws'], 'programming': ['sql', 'python']}\",Jan\n",
    "4,Data Scientist,Data Scientist,\"São Paulo, State of São Paulo, Brazil\",via BeBee,Full-time,False,Brazil,2023-01-03 23:02:27,False,False,Brazil,,,,Mars,\"['python', 'sql', 'azure']\",\"{'cloud': ['azure'], 'programming': ['python', 'sql']}\",Jan\n"
   ]
  },
  {
   "cell_type": "code",
   "execution_count": null,
   "metadata": {},
   "outputs": [],
   "source": [
    "df_q1.to_csv(path_or_buf='quarter_1.csv')"
   ]
  },
  {
   "cell_type": "code",
   "execution_count": null,
   "metadata": {},
   "outputs": [],
   "source": [
    "df_test = pd.read_csv('quarter_1.csv', index_col=0)"
   ]
  },
  {
   "cell_type": "code",
   "execution_count": null,
   "metadata": {},
   "outputs": [],
   "source": [
    "df_q1.to_excel(excel_writer='quarter_1.xlsx')"
   ]
  },
  {
   "cell_type": "markdown",
   "metadata": {},
   "source": [
    "## Pandas: Applying Functions\n",
    "- df.apply(lambda x: x * 2)"
   ]
  },
  {
   "cell_type": "markdown",
   "metadata": {},
   "source": [
    "### apply() - Calculate Project Salary Next Year"
   ]
  },
  {
   "cell_type": "code",
   "execution_count": null,
   "metadata": {},
   "outputs": [],
   "source": [
    "df_applying = pd.read_csv('./data/data_jobs.csv')"
   ]
  },
  {
   "cell_type": "code",
   "execution_count": null,
   "metadata": {},
   "outputs": [],
   "source": [
    "df_applying['job_posted_date'] = pd.to_datetime(df_applying['job_posted_date'])"
   ]
  },
  {
   "cell_type": "code",
   "execution_count": null,
   "metadata": {},
   "outputs": [],
   "source": [
    "df_applying[pd.notna(df_applying['salary_year_avg'])]['salary_year_avg']"
   ]
  },
  {
   "cell_type": "code",
   "execution_count": null,
   "metadata": {},
   "outputs": [],
   "source": [
    "help(df.apply)"
   ]
  },
  {
   "cell_type": "code",
   "execution_count": null,
   "metadata": {},
   "outputs": [],
   "source": [
    "df_salary = df_applying[pd.notna(df_applying['salary_year_avg'])].copy()"
   ]
  },
  {
   "cell_type": "code",
   "execution_count": null,
   "metadata": {},
   "outputs": [],
   "source": [
    "df_salary.head(3)"
   ]
  },
  {
   "cell_type": "code",
   "execution_count": null,
   "metadata": {},
   "outputs": [],
   "source": [
    "def projected_salary(salary):\n",
    "    return salary * 1.03\n",
    "\n",
    "df_salary['salary_year_inflated'] = df_salary['salary_year_avg'].apply(projected_salary)"
   ]
  },
  {
   "cell_type": "code",
   "execution_count": null,
   "metadata": {},
   "outputs": [],
   "source": [
    "df_salary[['salary_year_avg', 'salary_year_inflated']]"
   ]
  },
  {
   "cell_type": "code",
   "execution_count": null,
   "metadata": {},
   "outputs": [],
   "source": [
    "df_salary['salary_year_inflated'] = df_salary['salary_year_avg'].apply(lambda salary: salary * 1.03)"
   ]
  },
  {
   "cell_type": "code",
   "execution_count": null,
   "metadata": {},
   "outputs": [],
   "source": [
    "df_salary[['salary_year_avg', 'salary_year_inflated']]"
   ]
  },
  {
   "cell_type": "code",
   "execution_count": null,
   "metadata": {},
   "outputs": [],
   "source": [
    "df_salary['salary_year_inflated'] = df_salary['salary_year_avg'] * 1.03"
   ]
  },
  {
   "cell_type": "code",
   "execution_count": null,
   "metadata": {},
   "outputs": [],
   "source": [
    "df_salary[['salary_year_avg', 'salary_year_inflated']]"
   ]
  },
  {
   "cell_type": "code",
   "execution_count": null,
   "metadata": {},
   "outputs": [],
   "source": [
    "type(df_applying['job_skills'][3])"
   ]
  },
  {
   "cell_type": "code",
   "execution_count": null,
   "metadata": {},
   "outputs": [],
   "source": [
    "# Convert to list\n",
    "import ast\n",
    "\n",
    "type(ast.literal_eval(df_applying['job_skills'][3]))"
   ]
  },
  {
   "cell_type": "code",
   "execution_count": null,
   "metadata": {},
   "outputs": [],
   "source": [
    "def clean_list(skill_list):\n",
    "    if pd.notna(skill_list):\n",
    "        return ast.literal_eval(skill_list)\n",
    "    \n",
    "df_applying['job_skills'] = df_applying['job_skills'].apply(clean_list)"
   ]
  },
  {
   "cell_type": "code",
   "execution_count": null,
   "metadata": {},
   "outputs": [],
   "source": [
    "type(df_applying['job_skills'][3])"
   ]
  },
  {
   "cell_type": "code",
   "execution_count": null,
   "metadata": {},
   "outputs": [],
   "source": [
    "df_applying['job_skills'] = df_applying['job_skills'].apply(lambda skill_list: ast.literal_eval(skill_list) if pd.notna(skill_list) else skill_list)"
   ]
  },
  {
   "cell_type": "markdown",
   "metadata": {},
   "source": [
    "## Calculate projected salary next year\n",
    "- Senior roles assume 5%\n",
    "- Other rolse assume 3%"
   ]
  },
  {
   "cell_type": "code",
   "execution_count": null,
   "metadata": {},
   "outputs": [],
   "source": [
    "def projected_salary(row):\n",
    "    if 'Senior' in row['job_title_short']:\n",
    "        return row['salary_year_avg'] * 1.05\n",
    "    else:\n",
    "        return row['salary_year_avg'] * 1.03\n",
    "\n",
    "df_salary['salary_year_inflated'] = df_salary.apply(projected_salary, axis=1)\n",
    "\n",
    "df_salary[['job_title_short', 'salary_year_avg', 'salary_year_inflated']]"
   ]
  },
  {
   "cell_type": "markdown",
   "metadata": {},
   "source": [
    "## Pandas: Explode\n",
    "### df.explode('job_skills')"
   ]
  },
  {
   "cell_type": "code",
   "execution_count": null,
   "metadata": {},
   "outputs": [],
   "source": [
    "import pandas as pd\n",
    "import ast\n",
    "import matplotlib.pyplot as plt"
   ]
  },
  {
   "cell_type": "code",
   "execution_count": null,
   "metadata": {},
   "outputs": [],
   "source": [
    "data = {\n",
    "    'job_title_short' : ['Data Analyst', 'Data Scientist', 'Data Engineer'],\n",
    "    'job_skills' : [['excel', 'sql', 'python'], ['python', 'r'], ['aws', 'python', 'airflow']]\n",
    "}\n",
    "\n",
    "df_skill_lists = pd.DataFrame(data=data)\n",
    "df_skill_lists"
   ]
  },
  {
   "cell_type": "code",
   "execution_count": null,
   "metadata": {},
   "outputs": [],
   "source": [
    "df_skill_lists.explode('job_skills').value_counts('job_skills').plot(kind='bar')"
   ]
  },
  {
   "cell_type": "code",
   "execution_count": null,
   "metadata": {},
   "outputs": [],
   "source": [
    "# Loadin data\n",
    "df_explode = pd.read_csv('./data/data_jobs.csv')"
   ]
  },
  {
   "cell_type": "code",
   "execution_count": null,
   "metadata": {},
   "outputs": [],
   "source": [
    "type(df_explode['job_skills'][3])"
   ]
  },
  {
   "cell_type": "code",
   "execution_count": null,
   "metadata": {},
   "outputs": [],
   "source": [
    "# Data Cleanup\n",
    "df_explode['job_posted_date'] = pd.to_datetime(df_explode['job_posted_date'])\n",
    "# literal_eval - convert to type list\n",
    "df_explode['job_skills'] = df_explode['job_skills'].apply(lambda x: ast.literal_eval(x) if pd.notna(x) else x)"
   ]
  },
  {
   "cell_type": "code",
   "execution_count": null,
   "metadata": {},
   "outputs": [],
   "source": [
    "df_explode.head(3)"
   ]
  },
  {
   "cell_type": "code",
   "execution_count": null,
   "metadata": {},
   "outputs": [],
   "source": [
    "type(df_explode['job_skills'][3])"
   ]
  },
  {
   "cell_type": "code",
   "execution_count": null,
   "metadata": {},
   "outputs": [],
   "source": [
    "help(df.explode)"
   ]
  },
  {
   "cell_type": "code",
   "execution_count": null,
   "metadata": {},
   "outputs": [],
   "source": [
    "df_explode_exploded = df_explode.explode('job_skills')"
   ]
  },
  {
   "cell_type": "code",
   "execution_count": null,
   "metadata": {},
   "outputs": [],
   "source": [
    "df_explode_exploded['job_skills'].value_counts().head(10).plot(kind='bar')"
   ]
  },
  {
   "cell_type": "code",
   "execution_count": null,
   "metadata": {},
   "outputs": [],
   "source": [
    "skills_count = df_explode_exploded.groupby(['job_title_short', 'job_skills']).size()\n",
    "skills_count"
   ]
  },
  {
   "cell_type": "code",
   "execution_count": null,
   "metadata": {},
   "outputs": [],
   "source": [
    "df_skills_count = skills_count.reset_index(name='skill_count')\n",
    "df_skills_count"
   ]
  },
  {
   "cell_type": "code",
   "execution_count": null,
   "metadata": {},
   "outputs": [],
   "source": [
    "df_skills_count = df_skills_count.sort_values(by='skill_count', ascending=False)\n",
    "df_skills_count"
   ]
  },
  {
   "cell_type": "code",
   "execution_count": null,
   "metadata": {},
   "outputs": [],
   "source": [
    "job_title = 'Data Scientist'\n",
    "top_skills = 10\n",
    "\n",
    "df_skills_final = df_skills_count[df_skills_count['job_title_short'] == job_title].head(top_skills)\n",
    "df_skills_final.plot(kind='barh', x='job_skills', y='skill_count')\n",
    "plt.gca().invert_yaxis()\n",
    "\n",
    "plt.title(f'Top {top_skills} Skills for {job_title}s')\n",
    "plt.xlabel('Job Posting Count')\n",
    "plt.ylabel('')\n",
    "plt.legend().set_visible(b=False)\n",
    "plt.show()"
   ]
  },
  {
   "cell_type": "markdown",
   "metadata": {},
   "source": [
    "## Exercise: Trending Skills"
   ]
  },
  {
   "cell_type": "code",
   "execution_count": null,
   "metadata": {},
   "outputs": [],
   "source": [
    "import pandas as pd\n",
    "import ast\n",
    "import matplotlib.pyplot as plt"
   ]
  },
  {
   "cell_type": "code",
   "execution_count": null,
   "metadata": {},
   "outputs": [],
   "source": [
    "df = pd.read_csv('./data/data_jobs.csv')"
   ]
  },
  {
   "cell_type": "code",
   "execution_count": null,
   "metadata": {},
   "outputs": [],
   "source": [
    "df['job_posted_date'] = pd.to_datetime(df['job_posted_date'])\n",
    "df['job_skills'] = df['job_skills'].apply(lambda x: ast.literal_eval(x) if pd.notna(x) else x)"
   ]
  },
  {
   "cell_type": "code",
   "execution_count": null,
   "metadata": {},
   "outputs": [],
   "source": [
    "df_DA = df[df['job_title_short'] == 'Data Analyst'].copy()"
   ]
  },
  {
   "cell_type": "code",
   "execution_count": null,
   "metadata": {},
   "outputs": [],
   "source": [
    "df_DA.shape"
   ]
  },
  {
   "cell_type": "code",
   "execution_count": null,
   "metadata": {},
   "outputs": [],
   "source": [
    "df_DA['job_posted_month_no'] = df['job_posted_date'].dt.month\n",
    "df_DA_explode = df_DA.explode(column='job_skills')\n",
    "df_DA_explode.head()\n"
   ]
  },
  {
   "cell_type": "code",
   "execution_count": null,
   "metadata": {},
   "outputs": [],
   "source": [
    "df_DA_pivot = df_DA_explode.pivot_table(index='job_posted_month_no', columns='job_skills', aggfunc='size', fill_value=0)"
   ]
  },
  {
   "cell_type": "code",
   "execution_count": null,
   "metadata": {},
   "outputs": [],
   "source": [
    "df_DA_pivot"
   ]
  },
  {
   "cell_type": "code",
   "execution_count": null,
   "metadata": {},
   "outputs": [],
   "source": [
    "df_DA_pivot.shape"
   ]
  },
  {
   "cell_type": "code",
   "execution_count": null,
   "metadata": {},
   "outputs": [],
   "source": [
    "df_DA_pivot.loc['Total'] = df_DA_pivot.sum()\n",
    "df_DA_pivot.loc['Total'].sort_values(ascending=False)"
   ]
  },
  {
   "cell_type": "code",
   "execution_count": null,
   "metadata": {},
   "outputs": [],
   "source": [
    "df_DA_pivot.loc['Total'].sort_values(ascending=False).index"
   ]
  },
  {
   "cell_type": "code",
   "execution_count": null,
   "metadata": {},
   "outputs": [],
   "source": [
    "df_DA_pivot = df_DA_pivot[df_DA_pivot.loc['Total'].sort_values(ascending=False).index]"
   ]
  },
  {
   "cell_type": "code",
   "execution_count": null,
   "metadata": {},
   "outputs": [],
   "source": [
    "df_DA_pivot = df_DA_pivot.drop('Total')\n",
    "df_DA_pivot"
   ]
  },
  {
   "cell_type": "code",
   "execution_count": null,
   "metadata": {},
   "outputs": [],
   "source": [
    "df_DA_pivot.iloc[:, :5].plot(kind='line')\n",
    "\n",
    "plt.title('Top 5 skills for Data analysts per Month')\n",
    "plt.ylabel('Count')\n",
    "plt.xlabel('')\n",
    "plt.show()"
   ]
  },
  {
   "cell_type": "code",
   "execution_count": null,
   "metadata": {},
   "outputs": [],
   "source": [
    "df_DA_pivot = df_DA_pivot.reset_index()\n",
    "df_DA_pivot['job_posted_month'] = df_DA_pivot['job_posted_month_no'].apply(lambda x: pd.to_datetime(x, format='%m').strftime('%b'))\n",
    "df_DA_pivot = df_DA_pivot.set_index('job_posted_month')\n",
    "df_DA_pivot = df_DA_pivot.drop(columns='job_posted_month_no')\n",
    "\n",
    "df_DA_pivot.iloc[:, :5].plot(kind='line')\n",
    "\n",
    "plt.title('Top 5 skills for Data analysts per Month')\n",
    "plt.ylabel('Count')\n",
    "plt.xlabel('')\n",
    "plt.show()"
   ]
  },
  {
   "cell_type": "markdown",
   "metadata": {},
   "source": [
    "## Matplotlib: Format Charts\n",
    "### fig, ax = plt.sublots()"
   ]
  },
  {
   "cell_type": "code",
   "execution_count": null,
   "metadata": {},
   "outputs": [],
   "source": [
    "import ast\n",
    "import pandas as pd\n",
    "import matplotlib.pyplot as plt"
   ]
  },
  {
   "cell_type": "code",
   "execution_count": null,
   "metadata": {},
   "outputs": [],
   "source": [
    "df = pd.read_csv('./data/data_jobs.csv')"
   ]
  },
  {
   "cell_type": "code",
   "execution_count": null,
   "metadata": {},
   "outputs": [],
   "source": [
    "df ['job_posteddate'] = pd.to_datetime(df['job_posted_date'])\n",
    "df['job_skills'] = df['job_skills'].apply(lambda x: ast.literal_eval(x) if pd.notna(x) else x)"
   ]
  },
  {
   "cell_type": "code",
   "execution_count": null,
   "metadata": {},
   "outputs": [],
   "source": [
    "fig, ax = plt.subplots()\n",
    "# df['job_title_short'].value_counts().plot(kind='bar', ax=ax)"
   ]
  },
  {
   "cell_type": "code",
   "execution_count": null,
   "metadata": {},
   "outputs": [],
   "source": [
    "df['job_schedule_type'].value_counts().head(3)"
   ]
  },
  {
   "cell_type": "code",
   "execution_count": null,
   "metadata": {},
   "outputs": [],
   "source": [
    "# fig, ax = plt.subplots(1, 2)\n",
    "# df['job_title_short'].value_counts().plot(kind='bar', ax=ax[1])\n",
    "# df['job_schedule_type'].value_counts().head(3).plot(kind='bar', ax=ax[0])\n",
    "\n",
    "# fig.tight_layout(pad=13)"
   ]
  },
  {
   "cell_type": "code",
   "execution_count": null,
   "metadata": {},
   "outputs": [],
   "source": [
    "fig, ax = plt.subplots(1, 2)\n",
    "ax[0].bar(df['job_title_short'].value_counts().index, df['job_title_short'].value_counts())\n",
    "ax[1].bar(df['job_schedule_type'].value_counts().head(3).index, df['job_schedule_type'].value_counts().head(3))\n",
    "\n",
    "fig.tight_layout(pad=13)"
   ]
  },
  {
   "cell_type": "markdown",
   "metadata": {},
   "source": [
    "### Example - Counts of Top Skills in Job Postings"
   ]
  },
  {
   "cell_type": "code",
   "execution_count": null,
   "metadata": {},
   "outputs": [],
   "source": [
    "df_skills = df.copy()\n",
    "df_skills = df_skills.explode(column='job_skills')\n",
    "skills_count = df_skills.groupby(['job_skills', 'job_title_short']).size()\n",
    "df_skills_count = skills_count.reset_index(name='skill_count')\n",
    "df_skills_count.sort_values(by='skill_count', ascending=False, inplace=True)"
   ]
  },
  {
   "cell_type": "code",
   "execution_count": null,
   "metadata": {},
   "outputs": [],
   "source": [
    "df_skills_count"
   ]
  },
  {
   "cell_type": "code",
   "execution_count": null,
   "metadata": {},
   "outputs": [],
   "source": [
    "job_titles = ['Data Scientist', 'Data Engineer', 'Data Analyst']"
   ]
  },
  {
   "cell_type": "markdown",
   "metadata": {},
   "source": [
    "## Matplotlib: Pie Plots\n",
    "### plt.pie()"
   ]
  },
  {
   "cell_type": "code",
   "execution_count": 31,
   "metadata": {},
   "outputs": [],
   "source": [
    "import ast\n",
    "import pandas as pd\n",
    "import matplotlib.pyplot as plt"
   ]
  },
  {
   "cell_type": "code",
   "execution_count": 32,
   "metadata": {},
   "outputs": [],
   "source": [
    "df = pd.read_csv('./data/data_jobs.csv')"
   ]
  },
  {
   "cell_type": "code",
   "execution_count": 33,
   "metadata": {},
   "outputs": [],
   "source": [
    "df['job_posted_date'] = pd.to_datetime(df['job_posted_date'])\n",
    "df['job_skills'] = df['job_skills'].apply(lambda x: ast.literal_eval(x) if pd.notna(x) else x)"
   ]
  },
  {
   "cell_type": "code",
   "execution_count": null,
   "metadata": {},
   "outputs": [],
   "source": [
    "df .head(5)"
   ]
  },
  {
   "cell_type": "code",
   "execution_count": null,
   "metadata": {},
   "outputs": [],
   "source": [
    "df['job_work_from_home'].value_counts().plot(kind='pie')\n",
    "plt.title('Work from Home Status')\n",
    "plt.ylabel('')\n",
    "plt.show()"
   ]
  },
  {
   "cell_type": "code",
   "execution_count": null,
   "metadata": {},
   "outputs": [],
   "source": [
    "df['job_title_short'].value_counts().plot(kind='pie')\n",
    "plt.title('Job Title')\n",
    "plt.ylabel('')\n",
    "plt.show()"
   ]
  },
  {
   "cell_type": "code",
   "execution_count": null,
   "metadata": {},
   "outputs": [],
   "source": [
    "df['job_title_short'].value_counts().plot(kind='barh')\n",
    "plt.title('Job Title')\n",
    "plt.ylabel('')\n",
    "plt.gca().invert_yaxis()\n",
    "\n",
    "plt.show()"
   ]
  },
  {
   "cell_type": "code",
   "execution_count": null,
   "metadata": {},
   "outputs": [],
   "source": [
    "df['job_work_from_home'].value_counts().plot(kind='pie', startangle=90, autopct='%1.2f%%')\n",
    "plt.title('Work from Home Status')\n",
    "plt.ylabel('')\n",
    "plt.show()"
   ]
  },
  {
   "cell_type": "code",
   "execution_count": null,
   "metadata": {},
   "outputs": [],
   "source": [
    "df[['job_work_from_home', 'job_no_degree_mention', 'job_health_insurance']]"
   ]
  },
  {
   "cell_type": "code",
   "execution_count": null,
   "metadata": {},
   "outputs": [],
   "source": [
    "fig, ax = plt.subplots(1, 3)\n",
    "\n",
    "dict_column = {\n",
    "    'job_work_from_home' : 'Workfrom Home',\n",
    "    'job_no_degree_mention' : 'Job degree Req.',\n",
    "    'job_health_insurance' : 'Healt Insurance Offered'\n",
    "}\n",
    "\n",
    "\n",
    "# ax.pie(df['job_work_from_home'].value_counts())\n",
    "for i, (column, title) in enumerate(dict_column.items()):\n",
    "    \n",
    "    ax[i].pie(df[column].value_counts(), startangle=90, autopct='%1.2f%%', labels=['False', 'True'])\n",
    "    ax[i].set_title(title)\n",
    "\n",
    "\n",
    "plt.show()"
   ]
  },
  {
   "cell_type": "markdown",
   "metadata": {},
   "source": [
    "## Matplotlib: Scatter Plots\n",
    "### df.plot(kind='scatter)"
   ]
  },
  {
   "cell_type": "code",
   "execution_count": null,
   "metadata": {},
   "outputs": [],
   "source": [
    "# Sample data\n",
    "data = {\n",
    "    'job_skills': ['Python', 'SQL', 'Machine Learning', 'Data Visualization'],\n",
    "    'skill_count': [120, 90, 75, 60],\n",
    "    'skill_pay': [95000, 85000, 105000, 80000]\n",
    "}\n",
    "\n",
    "df_test_scatter = pd.DataFrame(data)\n",
    "\n",
    "df"
   ]
  },
  {
   "cell_type": "code",
   "execution_count": null,
   "metadata": {},
   "outputs": [],
   "source": [
    "df_test_scatter.plot(kind='scatter', x='skill_count', y='skill_pay')"
   ]
  },
  {
   "cell_type": "code",
   "execution_count": 34,
   "metadata": {},
   "outputs": [],
   "source": [
    "df = df[df['job_title_short'] == 'Data Analyst']"
   ]
  },
  {
   "cell_type": "code",
   "execution_count": 59,
   "metadata": {},
   "outputs": [
    {
     "data": {
      "text/html": [
       "<div>\n",
       "<style scoped>\n",
       "    .dataframe tbody tr th:only-of-type {\n",
       "        vertical-align: middle;\n",
       "    }\n",
       "\n",
       "    .dataframe tbody tr th {\n",
       "        vertical-align: top;\n",
       "    }\n",
       "\n",
       "    .dataframe thead th {\n",
       "        text-align: right;\n",
       "    }\n",
       "</style>\n",
       "<table border=\"1\" class=\"dataframe\">\n",
       "  <thead>\n",
       "    <tr style=\"text-align: right;\">\n",
       "      <th></th>\n",
       "      <th>job_title_short</th>\n",
       "      <th>job_title</th>\n",
       "      <th>job_location</th>\n",
       "      <th>job_via</th>\n",
       "      <th>job_schedule_type</th>\n",
       "      <th>job_work_from_home</th>\n",
       "      <th>search_location</th>\n",
       "      <th>job_posted_date</th>\n",
       "      <th>job_no_degree_mention</th>\n",
       "      <th>job_health_insurance</th>\n",
       "      <th>job_country</th>\n",
       "      <th>salary_rate</th>\n",
       "      <th>salary_year_avg</th>\n",
       "      <th>salary_hour_avg</th>\n",
       "      <th>company_name</th>\n",
       "      <th>job_skills</th>\n",
       "      <th>job_type_skills</th>\n",
       "    </tr>\n",
       "  </thead>\n",
       "  <tbody>\n",
       "    <tr>\n",
       "      <th>1</th>\n",
       "      <td>Data Analyst</td>\n",
       "      <td>Data Analyst</td>\n",
       "      <td>Guadalajara, Jalisco, Mexico</td>\n",
       "      <td>via BeBee México</td>\n",
       "      <td>Full-time</td>\n",
       "      <td>False</td>\n",
       "      <td>Mexico</td>\n",
       "      <td>2023-01-14 13:18:07</td>\n",
       "      <td>False</td>\n",
       "      <td>False</td>\n",
       "      <td>Mexico</td>\n",
       "      <td>NaN</td>\n",
       "      <td>NaN</td>\n",
       "      <td>NaN</td>\n",
       "      <td>Hewlett Packard Enterprise</td>\n",
       "      <td>[r, python, sql, nosql, power bi, tableau]</td>\n",
       "      <td>{'analyst_tools': ['power bi', 'tableau'], 'pr...</td>\n",
       "    </tr>\n",
       "    <tr>\n",
       "      <th>12</th>\n",
       "      <td>Data Analyst</td>\n",
       "      <td>Stagiaire Data Analyst (H/F) - Lyon (69006)</td>\n",
       "      <td>Lyon, France</td>\n",
       "      <td>via Jobijoba</td>\n",
       "      <td>Full-time and Internship</td>\n",
       "      <td>False</td>\n",
       "      <td>France</td>\n",
       "      <td>2023-12-22 13:24:41</td>\n",
       "      <td>False</td>\n",
       "      <td>False</td>\n",
       "      <td>France</td>\n",
       "      <td>NaN</td>\n",
       "      <td>NaN</td>\n",
       "      <td>NaN</td>\n",
       "      <td>Engie</td>\n",
       "      <td>[sql, php, excel, power bi, sap, jira]</td>\n",
       "      <td>{'analyst_tools': ['excel', 'power bi', 'sap']...</td>\n",
       "    </tr>\n",
       "    <tr>\n",
       "      <th>18</th>\n",
       "      <td>Data Analyst</td>\n",
       "      <td>Data Analyst</td>\n",
       "      <td>Warsaw, Poland</td>\n",
       "      <td>via Praca Trabajo.org</td>\n",
       "      <td>Full-time</td>\n",
       "      <td>False</td>\n",
       "      <td>Poland</td>\n",
       "      <td>2023-10-16 13:36:54</td>\n",
       "      <td>False</td>\n",
       "      <td>False</td>\n",
       "      <td>Poland</td>\n",
       "      <td>NaN</td>\n",
       "      <td>NaN</td>\n",
       "      <td>NaN</td>\n",
       "      <td>Glovo</td>\n",
       "      <td>[sql, python, r, redshift, pandas, excel, look...</td>\n",
       "      <td>{'analyst_tools': ['excel', 'looker', 'tableau...</td>\n",
       "    </tr>\n",
       "    <tr>\n",
       "      <th>31</th>\n",
       "      <td>Data Analyst</td>\n",
       "      <td>Stage - Data Analyst F/H</td>\n",
       "      <td>Paris, France</td>\n",
       "      <td>via LinkedIn</td>\n",
       "      <td>Full-time and Internship</td>\n",
       "      <td>False</td>\n",
       "      <td>France</td>\n",
       "      <td>2023-10-19 13:59:31</td>\n",
       "      <td>False</td>\n",
       "      <td>False</td>\n",
       "      <td>France</td>\n",
       "      <td>NaN</td>\n",
       "      <td>NaN</td>\n",
       "      <td>NaN</td>\n",
       "      <td>GROUPE BON MARCHÉ : Le Bon Marché Rive Gauche ...</td>\n",
       "      <td>[sql]</td>\n",
       "      <td>{'programming': ['sql']}</td>\n",
       "    </tr>\n",
       "    <tr>\n",
       "      <th>34</th>\n",
       "      <td>Data Analyst</td>\n",
       "      <td>Data Analyst als Marketing Manager Automation ...</td>\n",
       "      <td>Erlangen, Germany</td>\n",
       "      <td>via Central Illinois Proud Jobs</td>\n",
       "      <td>Full-time</td>\n",
       "      <td>False</td>\n",
       "      <td>Germany</td>\n",
       "      <td>2023-02-23 13:31:28</td>\n",
       "      <td>True</td>\n",
       "      <td>False</td>\n",
       "      <td>Germany</td>\n",
       "      <td>NaN</td>\n",
       "      <td>NaN</td>\n",
       "      <td>NaN</td>\n",
       "      <td>DEFACTO GmbH</td>\n",
       "      <td>[sap]</td>\n",
       "      <td>{'analyst_tools': ['sap']}</td>\n",
       "    </tr>\n",
       "  </tbody>\n",
       "</table>\n",
       "</div>"
      ],
      "text/plain": [
       "   job_title_short                                          job_title  \\\n",
       "1     Data Analyst                                       Data Analyst   \n",
       "12    Data Analyst        Stagiaire Data Analyst (H/F) - Lyon (69006)   \n",
       "18    Data Analyst                                       Data Analyst   \n",
       "31    Data Analyst                           Stage - Data Analyst F/H   \n",
       "34    Data Analyst  Data Analyst als Marketing Manager Automation ...   \n",
       "\n",
       "                    job_location                          job_via  \\\n",
       "1   Guadalajara, Jalisco, Mexico                 via BeBee México   \n",
       "12                  Lyon, France                     via Jobijoba   \n",
       "18                Warsaw, Poland            via Praca Trabajo.org   \n",
       "31                 Paris, France                     via LinkedIn   \n",
       "34             Erlangen, Germany  via Central Illinois Proud Jobs   \n",
       "\n",
       "           job_schedule_type  job_work_from_home search_location  \\\n",
       "1                  Full-time               False          Mexico   \n",
       "12  Full-time and Internship               False          France   \n",
       "18                 Full-time               False          Poland   \n",
       "31  Full-time and Internship               False          France   \n",
       "34                 Full-time               False         Germany   \n",
       "\n",
       "       job_posted_date  job_no_degree_mention  job_health_insurance  \\\n",
       "1  2023-01-14 13:18:07                  False                 False   \n",
       "12 2023-12-22 13:24:41                  False                 False   \n",
       "18 2023-10-16 13:36:54                  False                 False   \n",
       "31 2023-10-19 13:59:31                  False                 False   \n",
       "34 2023-02-23 13:31:28                   True                 False   \n",
       "\n",
       "   job_country salary_rate  salary_year_avg  salary_hour_avg  \\\n",
       "1       Mexico         NaN              NaN              NaN   \n",
       "12      France         NaN              NaN              NaN   \n",
       "18      Poland         NaN              NaN              NaN   \n",
       "31      France         NaN              NaN              NaN   \n",
       "34     Germany         NaN              NaN              NaN   \n",
       "\n",
       "                                         company_name  \\\n",
       "1                          Hewlett Packard Enterprise   \n",
       "12                                              Engie   \n",
       "18                                              Glovo   \n",
       "31  GROUPE BON MARCHÉ : Le Bon Marché Rive Gauche ...   \n",
       "34                                       DEFACTO GmbH   \n",
       "\n",
       "                                           job_skills  \\\n",
       "1          [r, python, sql, nosql, power bi, tableau]   \n",
       "12             [sql, php, excel, power bi, sap, jira]   \n",
       "18  [sql, python, r, redshift, pandas, excel, look...   \n",
       "31                                              [sql]   \n",
       "34                                              [sap]   \n",
       "\n",
       "                                      job_type_skills  \n",
       "1   {'analyst_tools': ['power bi', 'tableau'], 'pr...  \n",
       "12  {'analyst_tools': ['excel', 'power bi', 'sap']...  \n",
       "18  {'analyst_tools': ['excel', 'looker', 'tableau...  \n",
       "31                           {'programming': ['sql']}  \n",
       "34                         {'analyst_tools': ['sap']}  "
      ]
     },
     "execution_count": 59,
     "metadata": {},
     "output_type": "execute_result"
    }
   ],
   "source": [
    "df.head()"
   ]
  },
  {
   "cell_type": "code",
   "execution_count": 35,
   "metadata": {},
   "outputs": [],
   "source": [
    "df_exploded = df.explode('job_skills')"
   ]
  },
  {
   "cell_type": "code",
   "execution_count": 36,
   "metadata": {},
   "outputs": [
    {
     "data": {
      "text/html": [
       "<div>\n",
       "<style scoped>\n",
       "    .dataframe tbody tr th:only-of-type {\n",
       "        vertical-align: middle;\n",
       "    }\n",
       "\n",
       "    .dataframe tbody tr th {\n",
       "        vertical-align: top;\n",
       "    }\n",
       "\n",
       "    .dataframe thead th {\n",
       "        text-align: right;\n",
       "    }\n",
       "</style>\n",
       "<table border=\"1\" class=\"dataframe\">\n",
       "  <thead>\n",
       "    <tr style=\"text-align: right;\">\n",
       "      <th></th>\n",
       "      <th>job_title_short</th>\n",
       "      <th>job_title</th>\n",
       "      <th>job_location</th>\n",
       "      <th>job_via</th>\n",
       "      <th>job_schedule_type</th>\n",
       "      <th>job_work_from_home</th>\n",
       "      <th>search_location</th>\n",
       "      <th>job_posted_date</th>\n",
       "      <th>job_no_degree_mention</th>\n",
       "      <th>job_health_insurance</th>\n",
       "      <th>job_country</th>\n",
       "      <th>salary_rate</th>\n",
       "      <th>salary_year_avg</th>\n",
       "      <th>salary_hour_avg</th>\n",
       "      <th>company_name</th>\n",
       "      <th>job_skills</th>\n",
       "      <th>job_type_skills</th>\n",
       "    </tr>\n",
       "  </thead>\n",
       "  <tbody>\n",
       "    <tr>\n",
       "      <th>1</th>\n",
       "      <td>Data Analyst</td>\n",
       "      <td>Data Analyst</td>\n",
       "      <td>Guadalajara, Jalisco, Mexico</td>\n",
       "      <td>via BeBee México</td>\n",
       "      <td>Full-time</td>\n",
       "      <td>False</td>\n",
       "      <td>Mexico</td>\n",
       "      <td>2023-01-14 13:18:07</td>\n",
       "      <td>False</td>\n",
       "      <td>False</td>\n",
       "      <td>Mexico</td>\n",
       "      <td>NaN</td>\n",
       "      <td>NaN</td>\n",
       "      <td>NaN</td>\n",
       "      <td>Hewlett Packard Enterprise</td>\n",
       "      <td>r</td>\n",
       "      <td>{'analyst_tools': ['power bi', 'tableau'], 'pr...</td>\n",
       "    </tr>\n",
       "    <tr>\n",
       "      <th>1</th>\n",
       "      <td>Data Analyst</td>\n",
       "      <td>Data Analyst</td>\n",
       "      <td>Guadalajara, Jalisco, Mexico</td>\n",
       "      <td>via BeBee México</td>\n",
       "      <td>Full-time</td>\n",
       "      <td>False</td>\n",
       "      <td>Mexico</td>\n",
       "      <td>2023-01-14 13:18:07</td>\n",
       "      <td>False</td>\n",
       "      <td>False</td>\n",
       "      <td>Mexico</td>\n",
       "      <td>NaN</td>\n",
       "      <td>NaN</td>\n",
       "      <td>NaN</td>\n",
       "      <td>Hewlett Packard Enterprise</td>\n",
       "      <td>python</td>\n",
       "      <td>{'analyst_tools': ['power bi', 'tableau'], 'pr...</td>\n",
       "    </tr>\n",
       "    <tr>\n",
       "      <th>1</th>\n",
       "      <td>Data Analyst</td>\n",
       "      <td>Data Analyst</td>\n",
       "      <td>Guadalajara, Jalisco, Mexico</td>\n",
       "      <td>via BeBee México</td>\n",
       "      <td>Full-time</td>\n",
       "      <td>False</td>\n",
       "      <td>Mexico</td>\n",
       "      <td>2023-01-14 13:18:07</td>\n",
       "      <td>False</td>\n",
       "      <td>False</td>\n",
       "      <td>Mexico</td>\n",
       "      <td>NaN</td>\n",
       "      <td>NaN</td>\n",
       "      <td>NaN</td>\n",
       "      <td>Hewlett Packard Enterprise</td>\n",
       "      <td>sql</td>\n",
       "      <td>{'analyst_tools': ['power bi', 'tableau'], 'pr...</td>\n",
       "    </tr>\n",
       "    <tr>\n",
       "      <th>1</th>\n",
       "      <td>Data Analyst</td>\n",
       "      <td>Data Analyst</td>\n",
       "      <td>Guadalajara, Jalisco, Mexico</td>\n",
       "      <td>via BeBee México</td>\n",
       "      <td>Full-time</td>\n",
       "      <td>False</td>\n",
       "      <td>Mexico</td>\n",
       "      <td>2023-01-14 13:18:07</td>\n",
       "      <td>False</td>\n",
       "      <td>False</td>\n",
       "      <td>Mexico</td>\n",
       "      <td>NaN</td>\n",
       "      <td>NaN</td>\n",
       "      <td>NaN</td>\n",
       "      <td>Hewlett Packard Enterprise</td>\n",
       "      <td>nosql</td>\n",
       "      <td>{'analyst_tools': ['power bi', 'tableau'], 'pr...</td>\n",
       "    </tr>\n",
       "    <tr>\n",
       "      <th>1</th>\n",
       "      <td>Data Analyst</td>\n",
       "      <td>Data Analyst</td>\n",
       "      <td>Guadalajara, Jalisco, Mexico</td>\n",
       "      <td>via BeBee México</td>\n",
       "      <td>Full-time</td>\n",
       "      <td>False</td>\n",
       "      <td>Mexico</td>\n",
       "      <td>2023-01-14 13:18:07</td>\n",
       "      <td>False</td>\n",
       "      <td>False</td>\n",
       "      <td>Mexico</td>\n",
       "      <td>NaN</td>\n",
       "      <td>NaN</td>\n",
       "      <td>NaN</td>\n",
       "      <td>Hewlett Packard Enterprise</td>\n",
       "      <td>power bi</td>\n",
       "      <td>{'analyst_tools': ['power bi', 'tableau'], 'pr...</td>\n",
       "    </tr>\n",
       "    <tr>\n",
       "      <th>...</th>\n",
       "      <td>...</td>\n",
       "      <td>...</td>\n",
       "      <td>...</td>\n",
       "      <td>...</td>\n",
       "      <td>...</td>\n",
       "      <td>...</td>\n",
       "      <td>...</td>\n",
       "      <td>...</td>\n",
       "      <td>...</td>\n",
       "      <td>...</td>\n",
       "      <td>...</td>\n",
       "      <td>...</td>\n",
       "      <td>...</td>\n",
       "      <td>...</td>\n",
       "      <td>...</td>\n",
       "      <td>...</td>\n",
       "      <td>...</td>\n",
       "    </tr>\n",
       "    <tr>\n",
       "      <th>785717</th>\n",
       "      <td>Data Analyst</td>\n",
       "      <td>Data &amp; Analytics Architect (w/m/x)</td>\n",
       "      <td>Erfurt, Jerman</td>\n",
       "      <td>melalui LinkedIn</td>\n",
       "      <td>Pekerjaan tetap</td>\n",
       "      <td>False</td>\n",
       "      <td>Germany</td>\n",
       "      <td>2023-03-12 06:18:18</td>\n",
       "      <td>False</td>\n",
       "      <td>False</td>\n",
       "      <td>Germany</td>\n",
       "      <td>NaN</td>\n",
       "      <td>NaN</td>\n",
       "      <td>NaN</td>\n",
       "      <td>NTT DATA DACH</td>\n",
       "      <td>azure</td>\n",
       "      <td>{'cloud': ['aws', 'azure']}</td>\n",
       "    </tr>\n",
       "    <tr>\n",
       "      <th>785737</th>\n",
       "      <td>Data Analyst</td>\n",
       "      <td>CRM Data Analyst</td>\n",
       "      <td>Bad Rodach, Jerman</td>\n",
       "      <td>melalui BeBee Deutschland</td>\n",
       "      <td>Pekerjaan tetap</td>\n",
       "      <td>False</td>\n",
       "      <td>Germany</td>\n",
       "      <td>2023-03-12 06:18:18</td>\n",
       "      <td>False</td>\n",
       "      <td>False</td>\n",
       "      <td>Germany</td>\n",
       "      <td>NaN</td>\n",
       "      <td>NaN</td>\n",
       "      <td>NaN</td>\n",
       "      <td>HABA FAMILYGROUP</td>\n",
       "      <td>sas</td>\n",
       "      <td>{'analyst_tools': ['sas', 'excel'], 'programmi...</td>\n",
       "    </tr>\n",
       "    <tr>\n",
       "      <th>785737</th>\n",
       "      <td>Data Analyst</td>\n",
       "      <td>CRM Data Analyst</td>\n",
       "      <td>Bad Rodach, Jerman</td>\n",
       "      <td>melalui BeBee Deutschland</td>\n",
       "      <td>Pekerjaan tetap</td>\n",
       "      <td>False</td>\n",
       "      <td>Germany</td>\n",
       "      <td>2023-03-12 06:18:18</td>\n",
       "      <td>False</td>\n",
       "      <td>False</td>\n",
       "      <td>Germany</td>\n",
       "      <td>NaN</td>\n",
       "      <td>NaN</td>\n",
       "      <td>NaN</td>\n",
       "      <td>HABA FAMILYGROUP</td>\n",
       "      <td>sas</td>\n",
       "      <td>{'analyst_tools': ['sas', 'excel'], 'programmi...</td>\n",
       "    </tr>\n",
       "    <tr>\n",
       "      <th>785737</th>\n",
       "      <td>Data Analyst</td>\n",
       "      <td>CRM Data Analyst</td>\n",
       "      <td>Bad Rodach, Jerman</td>\n",
       "      <td>melalui BeBee Deutschland</td>\n",
       "      <td>Pekerjaan tetap</td>\n",
       "      <td>False</td>\n",
       "      <td>Germany</td>\n",
       "      <td>2023-03-12 06:18:18</td>\n",
       "      <td>False</td>\n",
       "      <td>False</td>\n",
       "      <td>Germany</td>\n",
       "      <td>NaN</td>\n",
       "      <td>NaN</td>\n",
       "      <td>NaN</td>\n",
       "      <td>HABA FAMILYGROUP</td>\n",
       "      <td>sql</td>\n",
       "      <td>{'analyst_tools': ['sas', 'excel'], 'programmi...</td>\n",
       "    </tr>\n",
       "    <tr>\n",
       "      <th>785737</th>\n",
       "      <td>Data Analyst</td>\n",
       "      <td>CRM Data Analyst</td>\n",
       "      <td>Bad Rodach, Jerman</td>\n",
       "      <td>melalui BeBee Deutschland</td>\n",
       "      <td>Pekerjaan tetap</td>\n",
       "      <td>False</td>\n",
       "      <td>Germany</td>\n",
       "      <td>2023-03-12 06:18:18</td>\n",
       "      <td>False</td>\n",
       "      <td>False</td>\n",
       "      <td>Germany</td>\n",
       "      <td>NaN</td>\n",
       "      <td>NaN</td>\n",
       "      <td>NaN</td>\n",
       "      <td>HABA FAMILYGROUP</td>\n",
       "      <td>excel</td>\n",
       "      <td>{'analyst_tools': ['sas', 'excel'], 'programmi...</td>\n",
       "    </tr>\n",
       "  </tbody>\n",
       "</table>\n",
       "<p>672513 rows × 17 columns</p>\n",
       "</div>"
      ],
      "text/plain": [
       "       job_title_short                           job_title  \\\n",
       "1         Data Analyst                        Data Analyst   \n",
       "1         Data Analyst                        Data Analyst   \n",
       "1         Data Analyst                        Data Analyst   \n",
       "1         Data Analyst                        Data Analyst   \n",
       "1         Data Analyst                        Data Analyst   \n",
       "...                ...                                 ...   \n",
       "785717    Data Analyst  Data & Analytics Architect (w/m/x)   \n",
       "785737    Data Analyst                    CRM Data Analyst   \n",
       "785737    Data Analyst                    CRM Data Analyst   \n",
       "785737    Data Analyst                    CRM Data Analyst   \n",
       "785737    Data Analyst                    CRM Data Analyst   \n",
       "\n",
       "                        job_location                    job_via  \\\n",
       "1       Guadalajara, Jalisco, Mexico           via BeBee México   \n",
       "1       Guadalajara, Jalisco, Mexico           via BeBee México   \n",
       "1       Guadalajara, Jalisco, Mexico           via BeBee México   \n",
       "1       Guadalajara, Jalisco, Mexico           via BeBee México   \n",
       "1       Guadalajara, Jalisco, Mexico           via BeBee México   \n",
       "...                              ...                        ...   \n",
       "785717                Erfurt, Jerman           melalui LinkedIn   \n",
       "785737            Bad Rodach, Jerman  melalui BeBee Deutschland   \n",
       "785737            Bad Rodach, Jerman  melalui BeBee Deutschland   \n",
       "785737            Bad Rodach, Jerman  melalui BeBee Deutschland   \n",
       "785737            Bad Rodach, Jerman  melalui BeBee Deutschland   \n",
       "\n",
       "       job_schedule_type  job_work_from_home search_location  \\\n",
       "1              Full-time               False          Mexico   \n",
       "1              Full-time               False          Mexico   \n",
       "1              Full-time               False          Mexico   \n",
       "1              Full-time               False          Mexico   \n",
       "1              Full-time               False          Mexico   \n",
       "...                  ...                 ...             ...   \n",
       "785717   Pekerjaan tetap               False         Germany   \n",
       "785737   Pekerjaan tetap               False         Germany   \n",
       "785737   Pekerjaan tetap               False         Germany   \n",
       "785737   Pekerjaan tetap               False         Germany   \n",
       "785737   Pekerjaan tetap               False         Germany   \n",
       "\n",
       "           job_posted_date  job_no_degree_mention  job_health_insurance  \\\n",
       "1      2023-01-14 13:18:07                  False                 False   \n",
       "1      2023-01-14 13:18:07                  False                 False   \n",
       "1      2023-01-14 13:18:07                  False                 False   \n",
       "1      2023-01-14 13:18:07                  False                 False   \n",
       "1      2023-01-14 13:18:07                  False                 False   \n",
       "...                    ...                    ...                   ...   \n",
       "785717 2023-03-12 06:18:18                  False                 False   \n",
       "785737 2023-03-12 06:18:18                  False                 False   \n",
       "785737 2023-03-12 06:18:18                  False                 False   \n",
       "785737 2023-03-12 06:18:18                  False                 False   \n",
       "785737 2023-03-12 06:18:18                  False                 False   \n",
       "\n",
       "       job_country salary_rate  salary_year_avg  salary_hour_avg  \\\n",
       "1           Mexico         NaN              NaN              NaN   \n",
       "1           Mexico         NaN              NaN              NaN   \n",
       "1           Mexico         NaN              NaN              NaN   \n",
       "1           Mexico         NaN              NaN              NaN   \n",
       "1           Mexico         NaN              NaN              NaN   \n",
       "...            ...         ...              ...              ...   \n",
       "785717     Germany         NaN              NaN              NaN   \n",
       "785737     Germany         NaN              NaN              NaN   \n",
       "785737     Germany         NaN              NaN              NaN   \n",
       "785737     Germany         NaN              NaN              NaN   \n",
       "785737     Germany         NaN              NaN              NaN   \n",
       "\n",
       "                      company_name job_skills  \\\n",
       "1       Hewlett Packard Enterprise          r   \n",
       "1       Hewlett Packard Enterprise     python   \n",
       "1       Hewlett Packard Enterprise        sql   \n",
       "1       Hewlett Packard Enterprise      nosql   \n",
       "1       Hewlett Packard Enterprise   power bi   \n",
       "...                            ...        ...   \n",
       "785717               NTT DATA DACH      azure   \n",
       "785737            HABA FAMILYGROUP        sas   \n",
       "785737            HABA FAMILYGROUP        sas   \n",
       "785737            HABA FAMILYGROUP        sql   \n",
       "785737            HABA FAMILYGROUP      excel   \n",
       "\n",
       "                                          job_type_skills  \n",
       "1       {'analyst_tools': ['power bi', 'tableau'], 'pr...  \n",
       "1       {'analyst_tools': ['power bi', 'tableau'], 'pr...  \n",
       "1       {'analyst_tools': ['power bi', 'tableau'], 'pr...  \n",
       "1       {'analyst_tools': ['power bi', 'tableau'], 'pr...  \n",
       "1       {'analyst_tools': ['power bi', 'tableau'], 'pr...  \n",
       "...                                                   ...  \n",
       "785717                        {'cloud': ['aws', 'azure']}  \n",
       "785737  {'analyst_tools': ['sas', 'excel'], 'programmi...  \n",
       "785737  {'analyst_tools': ['sas', 'excel'], 'programmi...  \n",
       "785737  {'analyst_tools': ['sas', 'excel'], 'programmi...  \n",
       "785737  {'analyst_tools': ['sas', 'excel'], 'programmi...  \n",
       "\n",
       "[672513 rows x 17 columns]"
      ]
     },
     "execution_count": 36,
     "metadata": {},
     "output_type": "execute_result"
    }
   ],
   "source": [
    "df_exploded"
   ]
  },
  {
   "cell_type": "code",
   "execution_count": 37,
   "metadata": {},
   "outputs": [
    {
     "data": {
      "text/plain": [
       "job_skills\n",
       "airflow       2002\n",
       "airtable        88\n",
       "alteryx       4570\n",
       "angular        376\n",
       "angular.js       2\n",
       "              ... \n",
       "wrike           39\n",
       "wsl             16\n",
       "xamarin          2\n",
       "yarn            76\n",
       "zoom           465\n",
       "Length: 235, dtype: int64"
      ]
     },
     "execution_count": 37,
     "metadata": {},
     "output_type": "execute_result"
    }
   ],
   "source": [
    "df_exploded.groupby('job_skills').size()"
   ]
  },
  {
   "cell_type": "code",
   "execution_count": null,
   "metadata": {},
   "outputs": [
    {
     "data": {
      "text/html": [
       "<div>\n",
       "<style scoped>\n",
       "    .dataframe tbody tr th:only-of-type {\n",
       "        vertical-align: middle;\n",
       "    }\n",
       "\n",
       "    .dataframe tbody tr th {\n",
       "        vertical-align: top;\n",
       "    }\n",
       "\n",
       "    .dataframe thead th {\n",
       "        text-align: right;\n",
       "    }\n",
       "</style>\n",
       "<table border=\"1\" class=\"dataframe\">\n",
       "  <thead>\n",
       "    <tr style=\"text-align: right;\">\n",
       "      <th></th>\n",
       "      <th>skill_count</th>\n",
       "      <th>median_salary</th>\n",
       "    </tr>\n",
       "    <tr>\n",
       "      <th>job_skills</th>\n",
       "      <th></th>\n",
       "      <th></th>\n",
       "    </tr>\n",
       "  </thead>\n",
       "  <tbody>\n",
       "    <tr>\n",
       "      <th>airflow</th>\n",
       "      <td>2002</td>\n",
       "      <td>111175.0</td>\n",
       "    </tr>\n",
       "    <tr>\n",
       "      <th>airtable</th>\n",
       "      <td>88</td>\n",
       "      <td>90000.0</td>\n",
       "    </tr>\n",
       "    <tr>\n",
       "      <th>alteryx</th>\n",
       "      <td>4570</td>\n",
       "      <td>105000.0</td>\n",
       "    </tr>\n",
       "    <tr>\n",
       "      <th>angular</th>\n",
       "      <td>376</td>\n",
       "      <td>109101.0</td>\n",
       "    </tr>\n",
       "    <tr>\n",
       "      <th>angular.js</th>\n",
       "      <td>2</td>\n",
       "      <td>NaN</td>\n",
       "    </tr>\n",
       "    <tr>\n",
       "      <th>...</th>\n",
       "      <td>...</td>\n",
       "      <td>...</td>\n",
       "    </tr>\n",
       "    <tr>\n",
       "      <th>wrike</th>\n",
       "      <td>39</td>\n",
       "      <td>75000.0</td>\n",
       "    </tr>\n",
       "    <tr>\n",
       "      <th>wsl</th>\n",
       "      <td>16</td>\n",
       "      <td>NaN</td>\n",
       "    </tr>\n",
       "    <tr>\n",
       "      <th>xamarin</th>\n",
       "      <td>2</td>\n",
       "      <td>NaN</td>\n",
       "    </tr>\n",
       "    <tr>\n",
       "      <th>yarn</th>\n",
       "      <td>76</td>\n",
       "      <td>99150.0</td>\n",
       "    </tr>\n",
       "    <tr>\n",
       "      <th>zoom</th>\n",
       "      <td>465</td>\n",
       "      <td>81167.0</td>\n",
       "    </tr>\n",
       "  </tbody>\n",
       "</table>\n",
       "<p>235 rows × 2 columns</p>\n",
       "</div>"
      ],
      "text/plain": [
       "            skill_count  median_salary\n",
       "job_skills                            \n",
       "airflow            2002       111175.0\n",
       "airtable             88        90000.0\n",
       "alteryx            4570       105000.0\n",
       "angular             376       109101.0\n",
       "angular.js            2            NaN\n",
       "...                 ...            ...\n",
       "wrike                39        75000.0\n",
       "wsl                  16            NaN\n",
       "xamarin               2            NaN\n",
       "yarn                 76        99150.0\n",
       "zoom                465        81167.0\n",
       "\n",
       "[235 rows x 2 columns]"
      ]
     },
     "execution_count": 61,
     "metadata": {},
     "output_type": "execute_result"
    }
   ],
   "source": [
    "# Метод .agg() используется для вычисления нескольких агрегированных значений:\n",
    "skills_stats = df_exploded.groupby('job_skills').agg(\n",
    "    # считает, сколько раз каждый навык встречается в датасете.\n",
    "    skill_count=('job_skills', 'count'),\n",
    "    # вычисляет медианную зарплату среди вакансий, где встречается этот навык.\n",
    "    median_salary=('salary_year_avg', 'median')\n",
    ")\n",
    "\n",
    "skills_stats"
   ]
  },
  {
   "cell_type": "code",
   "execution_count": null,
   "metadata": {},
   "outputs": [
    {
     "data": {
      "text/html": [
       "<div>\n",
       "<style scoped>\n",
       "    .dataframe tbody tr th:only-of-type {\n",
       "        vertical-align: middle;\n",
       "    }\n",
       "\n",
       "    .dataframe tbody tr th {\n",
       "        vertical-align: top;\n",
       "    }\n",
       "\n",
       "    .dataframe thead th {\n",
       "        text-align: right;\n",
       "    }\n",
       "</style>\n",
       "<table border=\"1\" class=\"dataframe\">\n",
       "  <thead>\n",
       "    <tr style=\"text-align: right;\">\n",
       "      <th></th>\n",
       "      <th>skill_count</th>\n",
       "      <th>median_salary</th>\n",
       "    </tr>\n",
       "    <tr>\n",
       "      <th>job_skills</th>\n",
       "      <th></th>\n",
       "      <th></th>\n",
       "    </tr>\n",
       "  </thead>\n",
       "  <tbody>\n",
       "    <tr>\n",
       "      <th>sql</th>\n",
       "      <td>92428</td>\n",
       "      <td>92500.0</td>\n",
       "    </tr>\n",
       "    <tr>\n",
       "      <th>excel</th>\n",
       "      <td>66860</td>\n",
       "      <td>84479.0</td>\n",
       "    </tr>\n",
       "    <tr>\n",
       "      <th>python</th>\n",
       "      <td>57190</td>\n",
       "      <td>98500.0</td>\n",
       "    </tr>\n",
       "    <tr>\n",
       "      <th>tableau</th>\n",
       "      <td>46455</td>\n",
       "      <td>95000.0</td>\n",
       "    </tr>\n",
       "    <tr>\n",
       "      <th>power bi</th>\n",
       "      <td>39380</td>\n",
       "      <td>90000.0</td>\n",
       "    </tr>\n",
       "    <tr>\n",
       "      <th>r</th>\n",
       "      <td>29996</td>\n",
       "      <td>92527.5</td>\n",
       "    </tr>\n",
       "    <tr>\n",
       "      <th>sas</th>\n",
       "      <td>27998</td>\n",
       "      <td>90000.0</td>\n",
       "    </tr>\n",
       "    <tr>\n",
       "      <th>powerpoint</th>\n",
       "      <td>13822</td>\n",
       "      <td>85000.0</td>\n",
       "    </tr>\n",
       "    <tr>\n",
       "      <th>word</th>\n",
       "      <td>13562</td>\n",
       "      <td>80000.0</td>\n",
       "    </tr>\n",
       "    <tr>\n",
       "      <th>sap</th>\n",
       "      <td>11280</td>\n",
       "      <td>90000.0</td>\n",
       "    </tr>\n",
       "  </tbody>\n",
       "</table>\n",
       "</div>"
      ],
      "text/plain": [
       "            skill_count  median_salary\n",
       "job_skills                            \n",
       "sql               92428        92500.0\n",
       "excel             66860        84479.0\n",
       "python            57190        98500.0\n",
       "tableau           46455        95000.0\n",
       "power bi          39380        90000.0\n",
       "r                 29996        92527.5\n",
       "sas               27998        90000.0\n",
       "powerpoint        13822        85000.0\n",
       "word              13562        80000.0\n",
       "sap               11280        90000.0"
      ]
     },
     "execution_count": 57,
     "metadata": {},
     "output_type": "execute_result"
    }
   ],
   "source": [
    "skills_stats = skills_stats.sort_values(by='skill_count', ascending=False).head(10)\n",
    "skills_stats"
   ]
  },
  {
   "cell_type": "code",
   "execution_count": 56,
   "metadata": {},
   "outputs": [
    {
     "data": {
      "image/png": "[encoded data removed]",
      "text/plain": [
       "<Figure size 640x480 with 1 Axes>"
      ]
     },
     "metadata": {},
     "output_type": "display_data"
    }
   ],
   "source": [
    "skills_stats.plot(kind='scatter', x='skill_count', y='median_salary')\n",
    "plt.xlabel('Count of Job Postings')\n",
    "plt.ylabel('Median Yearly Salary ($USD)')\n",
    "plt.title('Salary vs. Job Postings for Top 10 Skills')\n",
    "plt.tight_layout()\n",
    "\n",
    "for i, txt in enumerate(skills_stats.index):\n",
    "    plt.text(skills_stats['skill_count'].iloc[i], skills_stats['median_salary'].iloc[i], txt)\n",
    "\n",
    "plt.show()"
   ]
  },
  {
   "cell_type": "markdown",
   "metadata": {},
   "source": [
    "## Matplotlib: Advanced Customization\n",
    "### import adjust_text"
   ]
  },
  {
   "cell_type": "code",
   "execution_count": null,
   "metadata": {},
   "outputs": [],
   "source": []
  }
 ],
 "metadata": {
  "kernelspec": {
   "display_name": "venv",
   "language": "python",
   "name": "python3"
  },
  "language_info": {
   "codemirror_mode": {
    "name": "ipython",
    "version": 3
   },
   "file_extension": ".py",
   "mimetype": "text/x-python",
   "name": "python",
   "nbconvert_exporter": "python",
   "pygments_lexer": "ipython3",
   "version": "3.12.3"
  }
 },
 "nbformat": 4,
 "nbformat_minor": 2
}
